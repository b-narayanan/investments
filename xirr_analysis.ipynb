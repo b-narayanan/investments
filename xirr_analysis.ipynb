{
 "cells": [
  {
   "cell_type": "code",
   "execution_count": 7,
   "id": "4c3cc8c6",
   "metadata": {},
   "outputs": [],
   "source": [
    "import argparse\n",
    "from pathlib import Path\n",
    "import os\n",
    "from datetime import datetime\n",
    "from typing import Dict, Optional\n",
    "\n",
    "import numpy_financial as npf\n",
    "import pandas as pd\n",
    "import nasdaqdatalink as ndl"
   ]
  },
  {
   "cell_type": "code",
   "execution_count": 8,
   "id": "2d6cb131",
   "metadata": {},
   "outputs": [],
   "source": [
    "CASH_EQUIVALENTS = {\n",
    "    \"VMFXX\", \"QACDS\", \"SWVXX\", \"SPAXX\", \"SNVXX\", \"FDRXX\", \n",
    "    \"FGXX\", \"SPRXX\", \"SNAXX\", \"VMMXX\", \"VMSXX\"\n",
    "}\n",
    "\n",
    "TRANSACTION_TYPES = {\n",
    "    \"buy\": {\"BUY\"},\n",
    "    \"sell\": {\"SELL\", \"LIQ\"},\n",
    "    \"deposit\": {\"BNK\", \"DEP\", \"DEPOSIT\"},\n",
    "    \"withdrawal\": {\"WDL\", \"WITHDRAWAL\"},\n",
    "    \"dividend\": {\"DIV\", \"DIVIDEND\", \"CASH DIVIDEND\", \"CASHDIVIDEND\", \"DBS\", \"DBT\"},\n",
    "    \"interest\": {\"INTEREST\"},\n",
    "    \"reinvest\": {\"REINVEST\"},\n",
    "    \"split\": {\"STK SPLT\", \"SPLT\", \"SPLIT\"},\n",
    "}"
   ]
  },
  {
   "cell_type": "code",
   "execution_count": 9,
   "id": "2e552210",
   "metadata": {},
   "outputs": [],
   "source": [
    "def load_transactions(csv_path: str, ignore_cash_equivalents: bool = True) -> pd.DataFrame:\n",
    "    \"\"\"Load and normalize transaction data.\"\"\"\n",
    "    transactions_dir = Path(csv_path)\n",
    "    all_transactions = []\n",
    "    for csv_file in sorted(transactions_dir.glob('*.csv')):\n",
    "        # Read CSV \n",
    "        df = pd.read_csv(csv_file)\n",
    "        # Normalize columns\n",
    "        df[\"Trade Date\"] = pd.to_datetime(df[\"Trade Date\"])\n",
    "        df[\"Type\"] = df[\"Type\"].fillna(\"\").str.strip().str.upper()\n",
    "        df[\"Ticker\"] = df[\"Ticker\"].fillna(\"\").str.strip().str.upper()\n",
    "        df[\"Amount USD\"] = pd.to_numeric(df[\"Amount USD\"], errors=\"coerce\").fillna(0)\n",
    "        df[\"Quantity\"] = pd.to_numeric(df[\"Quantity\"], errors=\"coerce\").fillna(0)\n",
    "        # Filter out cash equivalents\n",
    "        if ignore_cash_equivalents:\n",
    "            df = df[~df[\"Ticker\"].isin(CASH_EQUIVALENTS)]\n",
    "            if \"Security Type\" in df.columns:\n",
    "                df = df[df[\"Security Type\"].str.upper() != \"MONEY MARKET\"]\n",
    "        all_transactions.append(df)\n",
    "    transactions = pd.concat(all_transactions).sort_values(\"Trade Date\").reset_index(drop=True)\n",
    "    return transactions\n",
    "\n",
    "def consolidate_transaction_types(df: pd.DataFrame) -> pd.DataFrame:\n",
    "    \"\"\"Map various transaction types to standard categories.\"\"\"\n",
    "    type_map = {}\n",
    "    for category, types in TRANSACTION_TYPES.items():\n",
    "        for t in types:\n",
    "            type_map[t] = category.upper()\n",
    "    \n",
    "    df = df.copy()\n",
    "    df[\"Type\"] = df[\"Type\"].replace(type_map).fillna(df[\"Type\"])\n",
    "    return df"
   ]
  },
  {
   "cell_type": "code",
   "execution_count": 10,
   "id": "e9813dae",
   "metadata": {},
   "outputs": [],
   "source": [
    "df = load_transactions(\"/Users/bhargav/Git/investments/transactions\")\n",
    "df = consolidate_transaction_types(df)"
   ]
  },
  {
   "cell_type": "code",
   "execution_count": 12,
   "id": "eedc3e1b",
   "metadata": {},
   "outputs": [
    {
     "data": {
      "text/plain": [
       "array(['BUY', 'REINVEST', 'DIVIDEND', 'DEPOSIT', 'SPLIT', 'SELL',\n",
       "       'INTEREST', 'WHT', 'CAP', 'CIL', 'ADR', 'DISTRIBUTION', 'FWT',\n",
       "       'MER', 'EXCHANGE'], dtype=object)"
      ]
     },
     "execution_count": 12,
     "metadata": {},
     "output_type": "execute_result"
    }
   ],
   "source": [
    "df[\"Type\"].unique()"
   ]
  },
  {
   "cell_type": "code",
   "execution_count": null,
   "id": "f5890e9b",
   "metadata": {},
   "outputs": [],
   "source": []
  }
 ],
 "metadata": {
  "kernelspec": {
   "display_name": "antichain",
   "language": "python",
   "name": "python3"
  },
  "language_info": {
   "codemirror_mode": {
    "name": "ipython",
    "version": 3
   },
   "file_extension": ".py",
   "mimetype": "text/x-python",
   "name": "python",
   "nbconvert_exporter": "python",
   "pygments_lexer": "ipython3",
   "version": "3.13.3"
  }
 },
 "nbformat": 4,
 "nbformat_minor": 5
}
