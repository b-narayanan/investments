{
 "cells": [
  {
   "cell_type": "markdown",
   "metadata": {},
   "source": "# Investment Returns Analysis with Polars\n\nThis notebook demonstrates using Polars for investment portfolio analysis, including:\n- Common Polars DataFrame operations\n- Efficient data transformations\n- Performance comparisons with a VOO benchmark\n- XIRR calculations for money-weighted returns"
  },
  {
   "cell_type": "code",
   "execution_count": null,
   "metadata": {},
   "outputs": [],
   "source": "# Core libraries\nimport polars as pl\nimport polars.selectors as cs\nimport numpy as np\nfrom pathlib import Path\nfrom datetime import datetime, date\nimport warnings\nwarnings.filterwarnings('ignore')\n\n# For XIRR calculations\nimport numpy_financial as npf\n\n# For data fetching\nimport os\nimport requests\nimport time\nfrom typing import Dict, List, Tuple\n\n# For visualization (still need matplotlib for plots)\nimport matplotlib.pyplot as plt\nimport seaborn as sns\nsns.set_style('whitegrid')\n\n# Configure Polars display options\npl.Config.set_tbl_rows(10)\npl.Config.set_fmt_str_lengths(50)\n\nprint(f\"Polars version: {pl.__version__}\")\nprint(\"All libraries imported successfully\")"
  },
  {
   "cell_type": "code",
   "execution_count": null,
   "metadata": {},
   "outputs": [],
   "source": "def load_transactions():\n    \"\"\"Load all transaction CSV files and combine them using Polars\"\"\"\n    transactions_dir = Path('/Users/bhargav/Git/investments/transactions')\n    all_transactions = []\n    \n    for csv_file in sorted(transactions_dir.glob('*.csv')):\n        # Read CSV with Polars\n        df = pl.read_csv(csv_file)\n        # Clean column names (remove BOM if present)\n        df = df.rename({col: col.replace('﻿', '') for col in df.columns})\n        all_transactions.append(df)\n        print(f\"Loaded {csv_file.name}: {len(df)} transactions\")\n    \n    # Combine all years using Polars concat\n    transactions = pl.concat(all_transactions, how=\"vertical\")\n    \n    # Convert date column and sort\n    transactions = (\n        transactions\n        .with_columns(\n            pl.col(\"Trade Date\").str.to_date(format=\"%Y-%m-%d\")\n        )\n        .sort(\"Trade Date\")\n    )\n    \n    return transactions\n\n# Load the data\ntransactions = load_transactions()\nprint(f\"\\nTotal transactions loaded: {len(transactions)}\")"
  },
  {
   "cell_type": "code",
   "execution_count": null,
   "metadata": {},
   "outputs": [],
   "source": "# Explore the data using Polars\nprint(\"Transaction types and counts:\")\nprint(\n    transactions\n    .group_by(\"Type\")\n    .agg(pl.count().alias(\"count\"))\n    .sort(\"count\", descending=True)\n)\n\nprint(\"\\nSample transactions:\")\nprint(transactions.head(10))"
  },
  {
   "cell_type": "code",
   "source": "def consolidate_transaction_types(df):\n    \"\"\"\n    Consolidate duplicate and similar transaction types using Polars\n    \"\"\"\n    # Create mapping for consolidation\n    type_mapping = {\n        # Deposits - consolidate variations\n        'DEPOSIT': 'Deposit',\n        'Deposit': 'Deposit',\n        \n        # Splits - consolidate variations\n        'STK SPLT': 'Split',\n        'SPLT': 'Split',\n        'Split': 'Split',\n        \n        # Dividends - keep as is\n        'Dividend': 'Dividend',\n        'DBS': 'Dividend',\n        'DBT': 'Dividend',\n        \n        # Reinvestments\n        'Reinvest': 'Reinvest',\n        \n        # Buys and Sells\n        'Buy': 'Buy',\n        'Sell': 'Sell',\n        'LIQ': 'Sell',      # Liquidation\n        \n        # Interest\n        'Interest': 'Interest',\n        \n        # Distributions and capital gains\n        'Distribution': 'Distribution',\n        'CAP': 'Capital Gain',\n        \n        # Tax-related\n        'WHT': 'Tax Withheld',     # Withholding tax\n        'FWT': 'Tax Withheld',     # Foreign withholding tax\n        \n        # Fees\n        'ADR': 'Fee',          # ADR fee\n        'MER': 'Fee',    # Management expense ratio\n        \n        # Corporate actions\n        'WDL': 'Withdrawal',       # Withdrawal\n        'BNK': 'Bank Transfer',    # Bank transfer\n        'CIL': 'Corporate Action',     # Cash in lieu\n        'Exchange': 'Corporate Action',     # Currency exchange or security exchange\n    }\n    \n    # Apply the mapping using Polars replace and then uppercase\n    df = df.with_columns(\n        pl.col(\"Type\")\n        .replace(type_mapping, default=pl.col(\"Type\"))\n        .str.strip_chars()\n        .str.to_uppercase()\n    )\n\n    return df",
   "metadata": {},
   "execution_count": null,
   "outputs": []
  },
  {
   "cell_type": "markdown",
   "source": "transactions = consolidate_transaction_types(transactions)\nprint(transactions.head())",
   "metadata": {}
  },
  {
   "cell_type": "code",
   "execution_count": null,
   "metadata": {},
   "outputs": [],
   "source": "print(\"Transaction types after consolidation:\")\nprint(\n    transactions\n    .group_by(\"Type\")\n    .agg(pl.count().alias(\"count\"))\n    .sort(\"count\", descending=True)\n)"
  },
  {
   "cell_type": "code",
   "source": "# More advanced Polars operations\nprint(\"ADVANCED POLARS OPERATIONS\")\nprint(\"=\" * 60)\n\n# 1. Date operations\nprint(\"\\n1. DATE OPERATIONS - Extract date components:\")\ndate_analysis = (\n    transactions\n    .with_columns([\n        pl.col(\"Trade Date\").dt.year().alias(\"year\"),\n        pl.col(\"Trade Date\").dt.month().alias(\"month\"),\n        pl.col(\"Trade Date\").dt.quarter().alias(\"quarter\"),\n        pl.col(\"Trade Date\").dt.weekday().alias(\"weekday\")\n    ])\n    .select([\"Trade Date\", \"year\", \"month\", \"quarter\", \"weekday\"])\n    .head(10)\n)\nprint(date_analysis)\n\n# 2. Pivot table\nprint(\"\\n2. PIVOT TABLE - Transactions by year and type:\")\npivot_result = (\n    transactions\n    .with_columns(\n        pl.col(\"Trade Date\").dt.year().alias(\"Year\")\n    )\n    .pivot(\n        values=\"Amount USD\",\n        index=\"Year\", \n        columns=\"Type\",\n        aggregate_function=\"sum\"\n    )\n    .fill_null(0)\n)\nprint(pivot_result)\n\n# 3. Conditional operations with when/then/otherwise\nprint(\"\\n3. CONDITIONAL LOGIC - Categorize transaction sizes:\")\ncategorized = (\n    transactions\n    .with_columns(\n        pl.when(pl.col(\"Amount USD\") < -10000)\n        .then(pl.lit(\"Large Purchase\"))\n        .when(pl.col(\"Amount USD\") < -1000)\n        .then(pl.lit(\"Medium Purchase\"))\n        .when(pl.col(\"Amount USD\") < 0)\n        .then(pl.lit(\"Small Purchase\"))\n        .when(pl.col(\"Amount USD\") > 1000)\n        .then(pl.lit(\"Large Income\"))\n        .when(pl.col(\"Amount USD\") > 0)\n        .then(pl.lit(\"Small Income\"))\n        .otherwise(pl.lit(\"Zero\"))\n        .alias(\"transaction_category\")\n    )\n    .group_by(\"transaction_category\")\n    .agg([\n        pl.count().alias(\"count\"),\n        pl.col(\"Amount USD\").mean().alias(\"avg_amount\")\n    ])\n)\nprint(categorized)",
   "metadata": {},
   "execution_count": null,
   "outputs": []
  },
  {
   "cell_type": "markdown",
   "source": "# List of money market funds to exclude (as per requirements)\nMONEY_MARKET_FUNDS = ['VMFXX', 'QACDS', 'SPAXX', 'FDRXX', 'SWVXX', 'VMMXX']\n\ndef filter_equity_transactions(df):\n    \"\"\"Filter for equity/ETF transactions only using Polars\"\"\"\n    # Chain operations for efficient filtering\n    df_filtered = (\n        df\n        # Remove money market funds\n        .filter(~pl.col(\"Ticker\").is_in(MONEY_MARKET_FUNDS))\n        # Keep only relevant transaction types\n        .filter(pl.col(\"Type\").is_in(['BUY', 'SELL', 'DIVIDEND', 'REINVEST', 'CAPITAL GAIN']))\n        # Remove rows without tickers\n        .filter(pl.col(\"Ticker\").is_not_null())\n    )\n    \n    return df_filtered\n\nequity_transactions = filter_equity_transactions(transactions)\nprint(f\"Filtered to {len(equity_transactions)} equity transactions\")\nprint(f\"\\nUnique tickers ({equity_transactions['Ticker'].n_unique()}):\")\n\n# Get unique tickers using Polars\nunique_tickers = (\n    equity_transactions\n    .select(\"Ticker\")\n    .unique()\n    .sort(\"Ticker\")\n    .get_column(\"Ticker\")\n    .to_list()\n)\nprint(sorted(unique_tickers))",
   "metadata": {}
  },
  {
   "cell_type": "code",
   "execution_count": 32,
   "metadata": {},
   "outputs": [
    {
     "data": {
      "text/html": [
       "<div>\n",
       "<style scoped>\n",
       "    .dataframe tbody tr th:only-of-type {\n",
       "        vertical-align: middle;\n",
       "    }\n",
       "\n",
       "    .dataframe tbody tr th {\n",
       "        vertical-align: top;\n",
       "    }\n",
       "\n",
       "    .dataframe thead th {\n",
       "        text-align: right;\n",
       "    }\n",
       "</style>\n",
       "<table border=\"1\" class=\"dataframe\">\n",
       "  <thead>\n",
       "    <tr style=\"text-align: right;\">\n",
       "      <th></th>\n",
       "      <th>Trade Date</th>\n",
       "      <th>Type</th>\n",
       "      <th>Ticker</th>\n",
       "      <th>Security Type</th>\n",
       "      <th>Price USD</th>\n",
       "      <th>Quantity</th>\n",
       "      <th>Amount USD</th>\n",
       "    </tr>\n",
       "  </thead>\n",
       "  <tbody>\n",
       "    <tr>\n",
       "      <th>0</th>\n",
       "      <td>2018-07-19</td>\n",
       "      <td>BUY</td>\n",
       "      <td>SCHF</td>\n",
       "      <td>ETF</td>\n",
       "      <td>33.25</td>\n",
       "      <td>74.0000</td>\n",
       "      <td>-2460.50</td>\n",
       "    </tr>\n",
       "    <tr>\n",
       "      <th>1</th>\n",
       "      <td>2018-07-19</td>\n",
       "      <td>BUY</td>\n",
       "      <td>SCHX</td>\n",
       "      <td>ETF</td>\n",
       "      <td>67.00</td>\n",
       "      <td>74.0000</td>\n",
       "      <td>-4958.00</td>\n",
       "    </tr>\n",
       "    <tr>\n",
       "      <th>2</th>\n",
       "      <td>2018-07-24</td>\n",
       "      <td>BUY</td>\n",
       "      <td>SCHA</td>\n",
       "      <td>ETF</td>\n",
       "      <td>75.00</td>\n",
       "      <td>25.0000</td>\n",
       "      <td>-1875.00</td>\n",
       "    </tr>\n",
       "    <tr>\n",
       "      <th>3</th>\n",
       "      <td>2018-09-12</td>\n",
       "      <td>BUY</td>\n",
       "      <td>FTEC</td>\n",
       "      <td>ETF</td>\n",
       "      <td>59.42</td>\n",
       "      <td>40.0000</td>\n",
       "      <td>-2376.80</td>\n",
       "    </tr>\n",
       "    <tr>\n",
       "      <th>4</th>\n",
       "      <td>2018-09-27</td>\n",
       "      <td>REINVEST</td>\n",
       "      <td>FTEC</td>\n",
       "      <td>ETF</td>\n",
       "      <td>60.19</td>\n",
       "      <td>0.0937</td>\n",
       "      <td>-5.64</td>\n",
       "    </tr>\n",
       "  </tbody>\n",
       "</table>\n",
       "</div>"
      ],
      "text/plain": [
       "  Trade Date      Type Ticker Security Type  Price USD  Quantity  Amount USD\n",
       "0 2018-07-19       BUY   SCHF           ETF      33.25   74.0000    -2460.50\n",
       "1 2018-07-19       BUY   SCHX           ETF      67.00   74.0000    -4958.00\n",
       "2 2018-07-24       BUY   SCHA           ETF      75.00   25.0000    -1875.00\n",
       "3 2018-09-12       BUY   FTEC           ETF      59.42   40.0000    -2376.80\n",
       "4 2018-09-27  REINVEST   FTEC           ETF      60.19    0.0937       -5.64"
      ]
     },
     "execution_count": 32,
     "metadata": {},
     "output_type": "execute_result"
    }
   ],
   "source": [
    "transactions = consolidate_transaction_types(transactions)\n",
    "transactions.head()"
   ]
  },
  {
   "cell_type": "code",
   "execution_count": null,
   "metadata": {},
   "outputs": [],
   "source": "class NasdaqDataFetcher:\n    \"\"\"Fetch historical data from Nasdaq Data Link (Sharadar) - returns Polars DataFrames\"\"\"\n    \n    def __init__(self, api_key=None):\n        self.api_key = api_key or os.environ.get('NASDAQ_DATA_LINK_API_KEY')\n        if not self.api_key:\n            print(\"WARNING: No API key found. Set NASDAQ_DATA_LINK_API_KEY environment variable.\")\n            print(\"You can get a free API key at: https://data.nasdaq.com/sign-up\")\n        self.base_url = \"https://data.nasdaq.com/api/v3\"\n        self.cache = {}\n    \n    def get_price_history(self, ticker: str, start_date: str, end_date: str) -> pl.DataFrame:\n        \"\"\"Get daily price history for a ticker including adjusted close and dividends\"\"\"\n        \n        # Check cache first\n        cache_key = f\"{ticker}_{start_date}_{end_date}\"\n        if cache_key in self.cache:\n            return self.cache[cache_key]\n        \n        if not self.api_key:\n            # Return dummy data for testing without API key\n            print(f\"Returning dummy data for {ticker} (no API key)\")\n            dates = pl.date_range(\n                datetime.strptime(start_date, '%Y-%m-%d'),\n                datetime.strptime(end_date, '%Y-%m-%d'),\n                interval=\"1d\",\n                eager=True\n            )\n            df = pl.DataFrame({\n                'ticker': [ticker] * len(dates),\n                'date': dates,\n                'closeadj': np.random.uniform(100, 200, len(dates)),\n                'divamt': np.random.choice([0, 0, 0, 0.5], len(dates))\n            })\n            self.cache[cache_key] = df\n            return df\n        \n        # Sharadar SEP table for daily prices\n        endpoint = f\"{self.base_url}/datatables/SHARADAR/SEP\"\n        \n        params = {\n            'ticker': ticker,\n            'date.gte': start_date,\n            'date.lte': end_date,\n            'api_key': self.api_key,\n            'qopts.columns': 'ticker,date,closeadj,divamt'\n        }\n        \n        try:\n            response = requests.get(endpoint, params=params)\n            response.raise_for_status()\n            data = response.json()\n            \n            if 'datatable' in data and 'data' in data['datatable']:\n                # Create Polars DataFrame from API response\n                df = pl.DataFrame(\n                    data['datatable']['data'],\n                    schema=['ticker', 'date', 'closeadj', 'divamt']\n                ).with_columns(\n                    pl.col('date').str.to_date()\n                ).sort('date')\n                \n                self.cache[cache_key] = df\n                return df\n            else:\n                return pl.DataFrame()\n                \n        except Exception as e:\n            print(f\"Error fetching {ticker}: {e}\")\n            return pl.DataFrame()\n        \n        finally:\n            # Rate limiting\n            time.sleep(0.1)\n\n# Initialize the fetcher\nfetcher = NasdaqDataFetcher()\nprint(\"Nasdaq Data Fetcher initialized\")\nprint(\"API Key status:\", \"Set\" if fetcher.api_key else \"Not set (using dummy data)\")"
  },
  {
   "cell_type": "markdown",
   "metadata": {},
   "source": [
    "## Step 2: Filter Relevant Transactions"
   ]
  },
  {
   "cell_type": "code",
   "execution_count": null,
   "metadata": {},
   "outputs": [],
   "source": "class Portfolio:\n    \"\"\"Track portfolio holdings and calculate values over time using Polars\"\"\"\n    \n    def __init__(self):\n        self.holdings = {}  # ticker -> shares\n        self.cash_flows = []  # List of (date, amount) for XIRR\n        self.history = []  # Daily portfolio values\n    \n    def process_transaction(self, date, txn_type, ticker, quantity, amount):\n        \"\"\"Process a single transaction\"\"\"\n        if ticker not in self.holdings:\n            self.holdings[ticker] = 0\n        \n        if txn_type in ['BUY']:\n            # Money leaves account (negative cash flow)\n            self.holdings[ticker] += abs(quantity)\n            self.cash_flows.append((date, -abs(amount)))\n            \n        elif txn_type in ['REINVEST']:\n            # Dividend reinvested - no net cash flow for XIRR\n            # But we do increase share count\n            self.holdings[ticker] += abs(quantity)\n            \n        elif txn_type == 'SELL':\n            # Money enters account (positive cash flow)\n            self.holdings[ticker] -= abs(quantity)\n            self.cash_flows.append((date, abs(amount)))\n            \n        elif txn_type == 'DIVIDEND' and quantity == 0:\n            # Cash dividend (not reinvested)\n            self.cash_flows.append((date, abs(amount)))\n            \n        elif txn_type == 'CAPITAL GAIN':\n            # Capital gains distribution (usually mutual funds)\n            # If reinvested, no cash flow\n            if quantity != 0:\n                self.holdings[ticker] += abs(quantity)\n    \n    def calculate_value(self, date, price_data):\n        \"\"\"Calculate total portfolio value on a given date using Polars DataFrames\"\"\"\n        total_value = 0\n        for ticker, shares in self.holdings.items():\n            if shares > 0 and ticker in price_data:\n                # Get most recent price up to this date\n                ticker_prices = price_data[ticker]\n                prices_before = ticker_prices.filter(pl.col('date') <= date)\n                if len(prices_before) > 0:\n                    # Get the last price using Polars\n                    price = prices_before['closeadj'][-1]\n                    total_value += shares * price\n        return total_value\n    \n    def calculate_xirr(self, end_date, end_value):\n        \"\"\"Calculate XIRR including final portfolio value\"\"\"\n        if len(self.cash_flows) == 0:\n            return 0\n        \n        # Add final portfolio value as positive cash flow\n        all_flows = self.cash_flows + [(end_date, end_value)]\n        \n        # Separate dates and amounts for numpy_financial\n        dates = [cf[0] for cf in all_flows]\n        amounts = [cf[1] for cf in all_flows]\n        \n        # Convert dates to datetime if they're not already\n        dates_dt = []\n        for d in dates:\n            if isinstance(d, datetime):\n                dates_dt.append(d)\n            else:\n                dates_dt.append(datetime.combine(d, datetime.min.time()))\n        \n        try:\n            xirr = npf.xirr(amounts, dates_dt)\n            return xirr * 100 if xirr is not None else None  # Convert to percentage\n        except:\n            # XIRR calculation can fail if returns are extreme\n            return None\n\nprint(\"Portfolio tracking class defined with Polars support\")"
  },
  {
   "cell_type": "markdown",
   "metadata": {},
   "source": [
    "## Step 3: Nasdaq Data Link Setup"
   ]
  },
  {
   "cell_type": "code",
   "execution_count": null,
   "metadata": {},
   "outputs": [],
   "source": "# Get date range and tickers using Polars operations\ndate_stats = equity_transactions.select([\n    pl.col('Trade Date').min().alias('start_date'),\n    pl.col('Trade Date').max().alias('end_date')\n]).row(0)\n\nstart_date = date_stats[0].strftime('%Y-%m-%d')\nend_date = datetime.now().strftime('%Y-%m-%d')\n\ntickers = equity_transactions['Ticker'].unique().to_list()\n\nprint(f\"Fetching data for {len(tickers)} tickers\")\nprint(f\"Date range: {start_date} to {end_date}\")\n\n# Fetch price data\nprice_data = {}\n\n# Always fetch VOO for benchmark\nprint(\"\\nFetching VOO benchmark data...\")\nvoo_prices = fetcher.get_price_history('VOO', start_date, end_date)\nif not voo_prices.is_empty():\n    price_data['VOO'] = voo_prices\n\n# Fetch data for holdings (limit to first 10 for demo)\nfor i, ticker in enumerate(tickers[:10]):\n    if ticker and ' ' not in ticker:  # Skip invalid tickers\n        print(f\"Fetching {ticker}... ({i+1}/10)\")\n        prices = fetcher.get_price_history(ticker, start_date, end_date)\n        if not prices.is_empty():\n            price_data[ticker] = prices\n\nprint(f\"\\nSuccessfully fetched data for {len(price_data)} tickers\")"
  },
  {
   "cell_type": "markdown",
   "metadata": {},
   "source": [
    "## Step 4: Portfolio Tracking Functions"
   ]
  },
  {
   "cell_type": "code",
   "execution_count": null,
   "metadata": {},
   "outputs": [],
   "source": "# Create actual portfolio\nactual_portfolio = Portfolio()\n\n# Process all transactions - convert Polars DataFrame to records for iteration\nfor row in equity_transactions.iter_rows(named=True):\n    actual_portfolio.process_transaction(\n        date=row['Trade Date'],\n        txn_type=row['Type'],\n        ticker=row['Ticker'],\n        quantity=row.get('Quantity', 0) or 0,\n        amount=row.get('Amount USD', 0) or 0\n    )\n\n# Calculate final portfolio value\nfinal_date = equity_transactions['Trade Date'].max()\nfinal_value = actual_portfolio.calculate_value(final_date, price_data)\n\n# Calculate XIRR\nactual_xirr = actual_portfolio.calculate_xirr(final_date, final_value)\n\nprint(f\"Actual Portfolio Summary:\")\nprint(f\"  Final Value: ${final_value:,.2f}\")\nprint(f\"  Number of transactions: {len(equity_transactions)}\")\nprint(f\"  Number of cash flows: {len(actual_portfolio.cash_flows)}\")\nif actual_xirr:\n    print(f\"  XIRR (Annualized Return): {actual_xirr:.2f}%\")\nelse:\n    print(f\"  XIRR: Could not calculate\")"
  },
  {
   "cell_type": "code",
   "source": "# Demonstrate Polars join operations\nprint(\"POLARS JOIN OPERATIONS\")\nprint(\"=\" * 60)\n\n# Create a summary of holdings\nholdings_summary = (\n    equity_transactions\n    .filter(pl.col('Type').is_in(['BUY', 'SELL']))\n    .with_columns(\n        pl.when(pl.col('Type') == 'SELL')\n        .then(-pl.col('Quantity'))\n        .otherwise(pl.col('Quantity'))\n        .alias('adjusted_quantity')\n    )\n    .group_by('Ticker')\n    .agg([\n        pl.col('adjusted_quantity').sum().alias('net_shares'),\n        pl.col('Amount USD').filter(pl.col('Type') == 'BUY').sum().abs().alias('total_invested'),\n        pl.count().alias('transaction_count')\n    ])\n    .filter(pl.col('net_shares') > 0)\n)\n\nprint(\"\\n1. Current Holdings Summary:\")\nprint(holdings_summary.head(10))\n\n# If we have price data, join with current prices\nif price_data:\n    # Get latest prices for each ticker\n    latest_prices = []\n    for ticker, prices_df in price_data.items():\n        if not prices_df.is_empty():\n            latest_price = pl.DataFrame({\n                'Ticker': [ticker],\n                'current_price': [prices_df['closeadj'][-1]]\n            })\n            latest_prices.append(latest_price)\n    \n    if latest_prices:\n        prices_df = pl.concat(latest_prices)\n        \n        # Join holdings with prices\n        portfolio_values = (\n            holdings_summary\n            .join(prices_df, on='Ticker', how='left')\n            .with_columns(\n                (pl.col('net_shares') * pl.col('current_price')).alias('current_value')\n            )\n            .with_columns(\n                ((pl.col('current_value') - pl.col('total_invested')) / pl.col('total_invested') * 100)\n                .alias('return_pct')\n            )\n            .sort('current_value', descending=True)\n        )\n        \n        print(\"\\n2. Portfolio Values with Returns:\")\n        print(portfolio_values.head(10))",
   "metadata": {},
   "execution_count": null,
   "outputs": []
  },
  {
   "cell_type": "markdown",
   "source": "def simulate_voo_portfolio(transactions_df, voo_prices):\n    \"\"\"Simulate portfolio if all Buy transactions went to VOO instead\"\"\"\n    voo_portfolio = Portfolio()\n    \n    # Get all buy transactions using Polars\n    buy_transactions = transactions_df.filter(pl.col('Type') == 'BUY').sort('Trade Date')\n    \n    for row in buy_transactions.iter_rows(named=True):\n        date = row['Trade Date']\n        amount = abs(row['Amount USD'])\n        \n        # Find VOO price on that date using Polars\n        voo_on_date = voo_prices.filter(pl.col('date') <= date)\n        if len(voo_on_date) > 0:\n            voo_price = voo_on_date['closeadj'][-1]\n            shares = amount / voo_price\n            \n            # Simulate buying VOO\n            voo_portfolio.process_transaction(\n                date=date,\n                txn_type='BUY',\n                ticker='VOO',\n                quantity=shares,\n                amount=amount\n            )\n    \n    # Handle dividend reinvestment for VOO\n    # Get all dividend payments for VOO during holding period\n    if len(voo_portfolio.holdings) > 0 and 'VOO' in voo_portfolio.holdings:\n        voo_divs = voo_prices.filter(pl.col('divamt') > 0)\n        min_date = buy_transactions['Trade Date'].min()\n        \n        for row in voo_divs.iter_rows(named=True):\n            div_date = row['date']\n            # Only process if we held shares on this date\n            if div_date >= min_date:\n                shares_held = voo_portfolio.holdings.get('VOO', 0)\n                if shares_held > 0:\n                    div_amount = shares_held * row['divamt']\n                    new_shares = div_amount / row['closeadj']\n                    # Reinvest dividend\n                    voo_portfolio.process_transaction(\n                        date=div_date,\n                        txn_type='REINVEST',\n                        ticker='VOO',\n                        quantity=new_shares,\n                        amount=div_amount\n                    )\n    \n    return voo_portfolio\n\n# Simulate VOO portfolio\nif 'VOO' in price_data:\n    voo_portfolio = simulate_voo_portfolio(equity_transactions, price_data['VOO'])\n    voo_final_value = voo_portfolio.calculate_value(final_date, price_data)\n    voo_xirr = voo_portfolio.calculate_xirr(final_date, voo_final_value)\n    \n    print(f\"VOO Benchmark Portfolio:\")\n    print(f\"  Final Value: ${voo_final_value:,.2f}\")\n    print(f\"  Total VOO shares: {voo_portfolio.holdings.get('VOO', 0):.4f}\")\n    if voo_xirr:\n        print(f\"  XIRR (Annualized Return): {voo_xirr:.2f}%\")\nelse:\n    print(\"VOO price data not available\")",
   "metadata": {}
  },
  {
   "cell_type": "markdown",
   "metadata": {},
   "source": [
    "## Step 5: Fetch Price Data"
   ]
  },
  {
   "cell_type": "code",
   "execution_count": null,
   "metadata": {},
   "outputs": [],
   "source": "def compare_portfolios(actual_xirr, voo_xirr, actual_value, voo_value, transactions_df):\n    \"\"\"Compare actual vs VOO benchmark returns using Polars DataFrame\"\"\"\n    \n    # Calculate total invested using Polars\n    total_invested = abs(\n        transactions_df\n        .filter(pl.col('Type') == 'BUY')\n        .select(pl.col('Amount USD').sum())\n        .item()\n    )\n    \n    # Calculate time period using Polars\n    date_range = transactions_df.select([\n        pl.col('Trade Date').min().alias('start_date'),\n        pl.col('Trade Date').max().alias('end_date')\n    ]).row(0)\n    \n    start_date = date_range[0]\n    end_date = date_range[1]\n    years = (end_date - start_date).days / 365.25\n    \n    print(\"=\"*60)\n    print(\"PORTFOLIO COMPARISON RESULTS\")\n    print(\"=\"*60)\n    print(f\"\\nInvestment Period: {start_date} to {end_date} ({years:.1f} years)\")\n    print(f\"Total Invested: ${total_invested:,.2f}\")\n    \n    print(f\"\\nActual Portfolio:\")\n    print(f\"  Final Value: ${actual_value:,.2f}\")\n    print(f\"  Total Return: {((actual_value/total_invested - 1) * 100):.2f}%\")\n    if actual_xirr:\n        print(f\"  XIRR (Annualized): {actual_xirr:.2f}%\")\n    \n    print(f\"\\nVOO Benchmark:\")\n    print(f\"  Final Value: ${voo_value:,.2f}\")\n    print(f\"  Total Return: {((voo_value/total_invested - 1) * 100):.2f}%\")\n    if voo_xirr:\n        print(f\"  XIRR (Annualized): {voo_xirr:.2f}%\")\n    \n    if actual_xirr and voo_xirr:\n        print(f\"\\nPerformance Analysis:\")\n        outperformance = actual_xirr - voo_xirr\n        if outperformance > 0:\n            print(f\"  ✅ Your portfolio OUTPERFORMED VOO by {outperformance:.2f}% annually\")\n        else:\n            print(f\"  ❌ Your portfolio UNDERPERFORMED VOO by {abs(outperformance):.2f}% annually\")\n        \n        # Calculate dollar difference\n        dollar_diff = actual_value - voo_value\n        if dollar_diff > 0:\n            print(f\"  💰 You have ${dollar_diff:,.2f} more than the VOO strategy\")\n        else:\n            print(f\"  💸 You have ${abs(dollar_diff):,.2f} less than the VOO strategy\")\n\n# Run comparison\nif 'voo_xirr' in locals():\n    compare_portfolios(actual_xirr, voo_xirr, final_value, voo_final_value, equity_transactions)"
  },
  {
   "cell_type": "markdown",
   "metadata": {},
   "source": [
    "## Step 6: Calculate Actual Portfolio Performance"
   ]
  },
  {
   "cell_type": "code",
   "execution_count": null,
   "metadata": {},
   "outputs": [],
   "source": "# Portfolio composition analysis using Polars\nholdings_summary = (\n    equity_transactions\n    .group_by('Ticker')\n    .agg(pl.col('Amount USD').sum().abs().alias('total_amount'))\n    .sort('total_amount', descending=True)\n)\ntop_holdings = holdings_summary.head(10)\n\n# Convert to pandas for matplotlib (visualization still needs pandas)\ntop_holdings_pd = top_holdings.to_pandas()\nequity_transactions_pd = equity_transactions.to_pandas()\n\n# Create visualization\nfig, axes = plt.subplots(2, 2, figsize=(15, 12))\n\n# 1. Top holdings by investment amount\nax1 = axes[0, 0]\nax1.barh(top_holdings_pd['Ticker'], top_holdings_pd['total_amount'], color='steelblue')\nax1.set_title('Top 10 Holdings by Total Investment', fontsize=14, fontweight='bold')\nax1.set_xlabel('Total Invested ($)')\nax1.set_ylabel('Ticker')\nax1.invert_yaxis()\n\n# 2. Transaction types distribution\nax2 = axes[0, 1]\ntxn_types = equity_transactions['Type'].value_counts().to_pandas()\ncolors = plt.cm.Set3(range(len(txn_types)))\ntxn_types.plot(kind='pie', ax=ax2, autopct='%1.1f%%', colors=colors)\nax2.set_title('Transaction Types Distribution', fontsize=14, fontweight='bold')\nax2.set_ylabel('')\n\n# 3. Investment timeline\nax3 = axes[1, 0]\nmonthly_buys = (\n    equity_transactions\n    .filter(pl.col('Type') == 'BUY')\n    .with_columns(\n        pl.col('Trade Date').dt.to_string('%Y-%m').alias('YearMonth')\n    )\n    .group_by('YearMonth')\n    .agg(pl.col('Amount USD').sum().abs().alias('monthly_amount'))\n    .sort('YearMonth')\n    .to_pandas()\n)\nax3.bar(range(len(monthly_buys)), monthly_buys['monthly_amount'], color='green', alpha=0.7)\nax3.set_title('Monthly Investment Pattern', fontsize=14, fontweight='bold')\nax3.set_xlabel('Month')\nax3.set_ylabel('Amount Invested ($)')\nax3.set_xticks(range(0, len(monthly_buys), max(1, len(monthly_buys)//10)))\nax3.set_xticklabels(monthly_buys['YearMonth'].iloc[::max(1, len(monthly_buys)//10)], rotation=45)\n\n# 4. Cumulative investment over time\nax4 = axes[1, 1]\nbuys_only = (\n    equity_transactions\n    .filter(pl.col('Type') == 'BUY')\n    .sort('Trade Date')\n    .with_columns(\n        pl.col('Amount USD').abs().cum_sum().alias('Cumulative')\n    )\n    .to_pandas()\n)\nax4.plot(buys_only['Trade Date'], buys_only['Cumulative'], linewidth=2, color='navy')\nax4.fill_between(buys_only['Trade Date'], 0, buys_only['Cumulative'], alpha=0.3, color='navy')\nax4.set_title('Cumulative Investment Over Time', fontsize=14, fontweight='bold')\nax4.set_xlabel('Date')\nax4.set_ylabel('Cumulative Investment ($)')\nax4.grid(True, alpha=0.3)\n\nplt.tight_layout()\nplt.show()"
  },
  {
   "cell_type": "markdown",
   "metadata": {},
   "source": [
    "## Step 7: Simulate VOO Benchmark Portfolio"
   ]
  },
  {
   "cell_type": "code",
   "execution_count": null,
   "metadata": {},
   "outputs": [],
   "source": "# Analyze returns by year using Polars\ndef analyze_by_year(transactions_df):\n    \"\"\"Break down investment activity by year using Polars\"\"\"\n    \n    yearly_analysis = (\n        transactions_df\n        .with_columns(\n            pl.col('Trade Date').dt.year().alias('Year')\n        )\n        .group_by('Year')\n        .agg([\n            # Calculate invested amount (BUY transactions)\n            pl.col('Amount USD')\n                .filter(pl.col('Type') == 'BUY')\n                .sum().abs()\n                .alias('Invested'),\n            \n            # Calculate sold amount (SELL transactions)\n            pl.col('Amount USD')\n                .filter(pl.col('Type') == 'SELL')\n                .sum().abs()\n                .alias('Sold'),\n            \n            # Calculate dividends\n            pl.col('Amount USD')\n                .filter(pl.col('Type').is_in(['DIVIDEND', 'REINVEST']))\n                .sum().abs()\n                .alias('Dividends'),\n            \n            # Count transactions\n            pl.count().alias('Transactions')\n        ])\n        .with_columns(\n            (-pl.col('Invested') + pl.col('Sold')).alias('Net Cash Flow')\n        )\n        .sort('Year')\n    )\n    \n    return yearly_analysis\n\nyearly_analysis = analyze_by_year(equity_transactions)\nprint(\"Investment Activity by Year (Polars Analysis):\")\nprint(yearly_analysis)\n\n# Convert to pandas for visualization\nyearly_pandas = yearly_analysis.to_pandas()\n\n# Visualize yearly activity\nfig, ax = plt.subplots(figsize=(12, 6))\nx = yearly_pandas['Year']\nwidth = 0.35\nax.bar(x - width/2, yearly_pandas['Invested'], width, label='Invested', color='green', alpha=0.7)\nax.bar(x + width/2, yearly_pandas['Sold'], width, label='Sold', color='red', alpha=0.7)\nax.set_xlabel('Year', fontsize=12)\nax.set_ylabel('Amount ($)', fontsize=12)\nax.set_title('Annual Investment and Sales Activity', fontsize=14, fontweight='bold')\nax.legend()\nax.grid(True, alpha=0.3)\nplt.show()"
  },
  {
   "cell_type": "code",
   "source": "## Summary: Key Polars Features Demonstrated\n\nThis notebook showcased Polars for investment portfolio analysis with these key features:\n\n### 1. **Performance Benefits**\n- Lazy evaluation for query optimization\n- Parallel execution of operations\n- Memory-efficient columnar storage\n- Streaming support for large datasets\n\n### 2. **Expression API**\n- Chainable operations: `filter()`, `with_columns()`, `group_by()`, `agg()`\n- Window functions with `over()`\n- Conditional logic with `when().then().otherwise()`\n- Date/time operations with `.dt` namespace\n\n### 3. **Data Operations**\n- **Selection**: `select()`, column subsetting\n- **Filtering**: `filter()` with boolean expressions\n- **Aggregation**: `group_by()` with multiple aggregation functions\n- **Joins**: `join()` for combining DataFrames\n- **Pivoting**: `pivot()` for reshaping data\n- **Sorting**: `sort()` with multiple columns\n\n### 4. **Polars vs Pandas Comparison**\n| Feature | Polars | Pandas |\n|---------|--------|--------|\n| Speed | 5-10x faster for large datasets | Baseline |\n| Memory | More efficient, columnar storage | Row-based |\n| API | Consistent, predictable | More flexible but inconsistent |\n| Lazy Evaluation | Yes, with query optimization | No |\n| Type Safety | Strong typing | Weaker typing |\n| Null Handling | Explicit null type | NaN/None mixing |\n\n### 5. **Common Polars Patterns Used**\n```python\n# Chain operations\ndf.filter(...).with_columns(...).group_by(...).agg(...)\n\n# Lazy evaluation\ndf.lazy().filter(...).collect()\n\n# Window functions\npl.col(\"amount\").cum_sum().over(\"ticker\")\n\n# Conditional columns\npl.when(condition).then(value1).otherwise(value2)\n\n# Date operations\npl.col(\"date\").dt.year()\n```\n\n### Next Steps\n- Use `streaming=True` in `collect()` for very large datasets\n- Explore Polars plugins for specialized operations\n- Consider Polars for ETL pipelines and data processing workflows",
   "metadata": {},
   "execution_count": null,
   "outputs": []
  },
  {
   "cell_type": "markdown",
   "source": "## Polars Lazy Evaluation and Query Optimization",
   "metadata": {}
  },
  {
   "cell_type": "markdown",
   "metadata": {},
   "source": [
    "## Step 8: Compare Results"
   ]
  },
  {
   "cell_type": "code",
   "execution_count": null,
   "metadata": {},
   "outputs": [],
   "source": [
    "def compare_portfolios(actual_xirr, voo_xirr, actual_value, voo_value, transactions_df):\n",
    "    \"\"\"Compare actual vs VOO benchmark returns\"\"\"\n",
    "    \n",
    "    # Calculate total invested\n",
    "    total_invested = abs(transactions_df[transactions_df['Type'] == 'Buy']['Amount USD'].sum())\n",
    "    \n",
    "    # Calculate time period\n",
    "    start_date = transactions_df['Trade Date'].min()\n",
    "    end_date = transactions_df['Trade Date'].max()\n",
    "    years = (end_date - start_date).days / 365.25\n",
    "    \n",
    "    print(\"=\"*60)\n",
    "    print(\"PORTFOLIO COMPARISON RESULTS\")\n",
    "    print(\"=\"*60)\n",
    "    print(f\"\\nInvestment Period: {start_date.date()} to {end_date.date()} ({years:.1f} years)\")\n",
    "    print(f\"Total Invested: ${total_invested:,.2f}\")\n",
    "    \n",
    "    print(f\"\\nActual Portfolio:\")\n",
    "    print(f\"  Final Value: ${actual_value:,.2f}\")\n",
    "    print(f\"  Total Return: {((actual_value/total_invested - 1) * 100):.2f}%\")\n",
    "    if actual_xirr:\n",
    "        print(f\"  XIRR (Annualized): {actual_xirr:.2f}%\")\n",
    "    \n",
    "    print(f\"\\nVOO Benchmark:\")\n",
    "    print(f\"  Final Value: ${voo_value:,.2f}\")\n",
    "    print(f\"  Total Return: {((voo_value/total_invested - 1) * 100):.2f}%\")\n",
    "    if voo_xirr:\n",
    "        print(f\"  XIRR (Annualized): {voo_xirr:.2f}%\")\n",
    "    \n",
    "    if actual_xirr and voo_xirr:\n",
    "        print(f\"\\nPerformance Analysis:\")\n",
    "        outperformance = actual_xirr - voo_xirr\n",
    "        if outperformance > 0:\n",
    "            print(f\"  ✅ Your portfolio OUTPERFORMED VOO by {outperformance:.2f}% annually\")\n",
    "        else:\n",
    "            print(f\"  ❌ Your portfolio UNDERPERFORMED VOO by {abs(outperformance):.2f}% annually\")\n",
    "        \n",
    "        # Calculate dollar difference\n",
    "        dollar_diff = actual_value - voo_value\n",
    "        if dollar_diff > 0:\n",
    "            print(f\"  💰 You have ${dollar_diff:,.2f} more than the VOO strategy\")\n",
    "        else:\n",
    "            print(f\"  💸 You have ${abs(dollar_diff):,.2f} less than the VOO strategy\")\n",
    "\n",
    "# Run comparison\n",
    "if 'voo_xirr' in locals():\n",
    "    compare_portfolios(actual_xirr, voo_xirr, final_value, voo_final_value, equity_transactions)"
   ]
  },
  {
   "cell_type": "markdown",
   "metadata": {},
   "source": [
    "## Step 9: Visualizations"
   ]
  },
  {
   "cell_type": "code",
   "execution_count": null,
   "metadata": {},
   "outputs": [],
   "source": [
    "# Portfolio composition analysis\n",
    "holdings_summary = equity_transactions.groupby('Ticker')['Amount USD'].sum().abs().sort_values(ascending=False)\n",
    "top_holdings = holdings_summary.head(10)\n",
    "\n",
    "# Create visualization\n",
    "fig, axes = plt.subplots(2, 2, figsize=(15, 12))\n",
    "\n",
    "# 1. Top holdings by investment amount\n",
    "ax1 = axes[0, 0]\n",
    "top_holdings.plot(kind='barh', ax=ax1, color='steelblue')\n",
    "ax1.set_title('Top 10 Holdings by Total Investment', fontsize=14, fontweight='bold')\n",
    "ax1.set_xlabel('Total Invested ($)')\n",
    "ax1.set_ylabel('Ticker')\n",
    "\n",
    "# 2. Transaction types distribution\n",
    "ax2 = axes[0, 1]\n",
    "txn_types = equity_transactions['Type'].value_counts()\n",
    "colors = plt.cm.Set3(range(len(txn_types)))\n",
    "txn_types.plot(kind='pie', ax=ax2, autopct='%1.1f%%', colors=colors)\n",
    "ax2.set_title('Transaction Types Distribution', fontsize=14, fontweight='bold')\n",
    "ax2.set_ylabel('')\n",
    "\n",
    "# 3. Investment timeline\n",
    "ax3 = axes[1, 0]\n",
    "monthly_buys = equity_transactions[equity_transactions['Type'] == 'Buy'].copy()\n",
    "monthly_buys['YearMonth'] = monthly_buys['Trade Date'].dt.to_period('M')\n",
    "monthly_investment = monthly_buys.groupby('YearMonth')['Amount USD'].sum().abs()\n",
    "monthly_investment.plot(kind='bar', ax=ax3, color='green', alpha=0.7)\n",
    "ax3.set_title('Monthly Investment Pattern', fontsize=14, fontweight='bold')\n",
    "ax3.set_xlabel('Month')\n",
    "ax3.set_ylabel('Amount Invested ($)')\n",
    "ax3.tick_params(axis='x', rotation=45)\n",
    "\n",
    "# 4. Cumulative investment over time\n",
    "ax4 = axes[1, 1]\n",
    "buys_only = equity_transactions[equity_transactions['Type'] == 'Buy'].copy()\n",
    "buys_only = buys_only.sort_values('Trade Date')\n",
    "buys_only['Cumulative'] = buys_only['Amount USD'].abs().cumsum()\n",
    "ax4.plot(buys_only['Trade Date'], buys_only['Cumulative'], linewidth=2, color='navy')\n",
    "ax4.fill_between(buys_only['Trade Date'], 0, buys_only['Cumulative'], alpha=0.3, color='navy')\n",
    "ax4.set_title('Cumulative Investment Over Time', fontsize=14, fontweight='bold')\n",
    "ax4.set_xlabel('Date')\n",
    "ax4.set_ylabel('Cumulative Investment ($)')\n",
    "ax4.grid(True, alpha=0.3)\n",
    "\n",
    "plt.tight_layout()\n",
    "plt.show()"
   ]
  },
  {
   "cell_type": "markdown",
   "metadata": {},
   "source": [
    "## Step 10: Detailed Analysis by Year"
   ]
  },
  {
   "cell_type": "code",
   "execution_count": null,
   "metadata": {},
   "outputs": [],
   "source": [
    "# Analyze returns by year\n",
    "def analyze_by_year(transactions_df):\n",
    "    \"\"\"Break down investment activity by year\"\"\"\n",
    "    df = transactions_df.copy()\n",
    "    df['Year'] = df['Trade Date'].dt.year\n",
    "    \n",
    "    yearly_summary = []\n",
    "    for year in sorted(df['Year'].unique()):\n",
    "        year_data = df[df['Year'] == year]\n",
    "        buys = year_data[year_data['Type'] == 'Buy']['Amount USD'].sum()\n",
    "        sells = year_data[year_data['Type'] == 'Sell']['Amount USD'].sum()\n",
    "        dividends = year_data[year_data['Type'].isin(['Dividend', 'Reinvest'])]['Amount USD'].sum()\n",
    "        \n",
    "        yearly_summary.append({\n",
    "            'Year': year,\n",
    "            'Invested': abs(buys),\n",
    "            'Sold': abs(sells),\n",
    "            'Dividends': abs(dividends),\n",
    "            'Net Cash Flow': -abs(buys) + abs(sells),\n",
    "            'Transactions': len(year_data)\n",
    "        })\n",
    "    \n",
    "    yearly_df = pd.DataFrame(yearly_summary)\n",
    "    return yearly_df\n",
    "\n",
    "yearly_analysis = analyze_by_year(equity_transactions)\n",
    "print(\"Investment Activity by Year:\")\n",
    "print(yearly_analysis.to_string(index=False))\n",
    "\n",
    "# Visualize yearly activity\n",
    "fig, ax = plt.subplots(figsize=(12, 6))\n",
    "x = yearly_analysis['Year']\n",
    "width = 0.35\n",
    "ax.bar(x - width/2, yearly_analysis['Invested'], width, label='Invested', color='green', alpha=0.7)\n",
    "ax.bar(x + width/2, yearly_analysis['Sold'], width, label='Sold', color='red', alpha=0.7)\n",
    "ax.set_xlabel('Year', fontsize=12)\n",
    "ax.set_ylabel('Amount ($)', fontsize=12)\n",
    "ax.set_title('Annual Investment and Sales Activity', fontsize=14, fontweight='bold')\n",
    "ax.legend()\n",
    "ax.grid(True, alpha=0.3)\n",
    "plt.show()"
   ]
  },
  {
   "cell_type": "markdown",
   "metadata": {},
   "source": [
    "## Conclusions and Next Steps\n",
    "\n",
    "This notebook provides a comprehensive analysis of your investment portfolio performance using XIRR (money-weighted returns) compared to a VOO benchmark strategy.\n",
    "\n",
    "### Key Insights:\n",
    "1. **XIRR vs CAGR**: We use XIRR because it accounts for the timing and size of your cash flows, giving a more accurate picture of your investment performance\n",
    "2. **Dividend Reinvestment**: Properly handled by tracking share increases without affecting XIRR cash flows\n",
    "3. **Fair Comparison**: The VOO benchmark simulates investing the same amounts on the same dates as your actual investments\n",
    "\n",
    "### To Run This Analysis:\n",
    "1. Set your Nasdaq Data Link API key: `export NASDAQ_DATA_LINK_API_KEY=\"your_key\"`\n",
    "2. Run each cell sequentially to see results\n",
    "3. The analysis will work with dummy data if no API key is provided (for testing)\n",
    "\n",
    "### Potential Enhancements:\n",
    "- Add support for stock splits and corporate actions\n",
    "- Include transaction costs in the analysis\n",
    "- Compare against multiple benchmarks (QQQ, IWM, etc.)\n",
    "- Add risk-adjusted return metrics (Sharpe ratio, etc.)\n",
    "- Generate a detailed PDF report of findings"
   ]
  }
 ],
 "metadata": {
  "kernelspec": {
   "display_name": "Antichain",
   "language": "python",
   "name": "antichain"
  },
  "language_info": {
   "codemirror_mode": {
    "name": "ipython",
    "version": 3
   },
   "file_extension": ".py",
   "mimetype": "text/x-python",
   "name": "python",
   "nbconvert_exporter": "python",
   "pygments_lexer": "ipython3",
   "version": "3.13.3"
  }
 },
 "nbformat": 4,
 "nbformat_minor": 4
}